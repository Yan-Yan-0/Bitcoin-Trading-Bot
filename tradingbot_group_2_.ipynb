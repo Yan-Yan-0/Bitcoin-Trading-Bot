{
  "nbformat": 4,
  "nbformat_minor": 0,
  "metadata": {
    "colab": {
      "name": "tradingbot_group_2_.ipynb",
      "provenance": [],
      "collapsed_sections": []
    },
    "kernelspec": {
      "name": "python3",
      "display_name": "Python 3"
    }
  },
  "cells": [
    {
      "cell_type": "code",
      "metadata": {
        "id": "BkIDnCA0Fg7X",
        "colab_type": "code",
        "outputId": "c784187d-131f-4c23-e4a1-397c85efd0f0",
        "colab": {
          "base_uri": "https://localhost:8080/",
          "height": 34
        }
      },
      "source": [
        "%tensorflow_version 2.x\n",
        "import tensorflow as tf\n",
        "import numpy as np\n",
        "import matplotlib.pyplot as plt\n",
        "import pandas as pd\n",
        "from pandas.plotting import autocorrelation_plot\n",
        "from sklearn.metrics import mean_squared_error\n",
        "from helper import windowed_dataset"
      ],
      "execution_count": 1,
      "outputs": [
        {
          "output_type": "stream",
          "text": [
            "TensorFlow 2.x selected.\n"
          ],
          "name": "stdout"
        }
      ]
    },
    {
      "cell_type": "code",
      "metadata": {
        "id": "llJRf3_aL7l5",
        "colab_type": "code",
        "outputId": "78966dfb-96d9-44e3-9bea-55d184631bea",
        "colab": {
          "base_uri": "https://localhost:8080/",
          "height": 235
        }
      },
      "source": [
        "#Load data\n",
        "fname = 'data/BTCUSD_2h_2011-09-13_to_2019-10-23_bitstamp.csv'\n",
        "data = pd.read_csv(fname)\n",
        "data.set_index('date', inplace=True)\n",
        "data.head()"
      ],
      "execution_count": 0,
      "outputs": [
        {
          "output_type": "execute_result",
          "data": {
            "text/html": [
              "<div>\n",
              "<style scoped>\n",
              "    .dataframe tbody tr th:only-of-type {\n",
              "        vertical-align: middle;\n",
              "    }\n",
              "\n",
              "    .dataframe tbody tr th {\n",
              "        vertical-align: top;\n",
              "    }\n",
              "\n",
              "    .dataframe thead th {\n",
              "        text-align: right;\n",
              "    }\n",
              "</style>\n",
              "<table border=\"1\" class=\"dataframe\">\n",
              "  <thead>\n",
              "    <tr style=\"text-align: right;\">\n",
              "      <th></th>\n",
              "      <th>open</th>\n",
              "      <th>high</th>\n",
              "      <th>low</th>\n",
              "      <th>close</th>\n",
              "      <th>volume</th>\n",
              "    </tr>\n",
              "    <tr>\n",
              "      <th>date</th>\n",
              "      <th></th>\n",
              "      <th></th>\n",
              "      <th></th>\n",
              "      <th></th>\n",
              "      <th></th>\n",
              "    </tr>\n",
              "  </thead>\n",
              "  <tbody>\n",
              "    <tr>\n",
              "      <th>2011-09-13 12:00:00</th>\n",
              "      <td>5.80000000</td>\n",
              "      <td>6.00000000</td>\n",
              "      <td>5.80000000</td>\n",
              "      <td>6.00000000</td>\n",
              "      <td>25.00000000</td>\n",
              "    </tr>\n",
              "    <tr>\n",
              "      <th>2011-09-13 14:00:00</th>\n",
              "      <td>5.95000000</td>\n",
              "      <td>5.95000000</td>\n",
              "      <td>5.65000000</td>\n",
              "      <td>5.65000000</td>\n",
              "      <td>24.89598238</td>\n",
              "    </tr>\n",
              "    <tr>\n",
              "      <th>2011-09-13 16:00:00</th>\n",
              "      <td>nan</td>\n",
              "      <td>nan</td>\n",
              "      <td>nan</td>\n",
              "      <td>nan</td>\n",
              "      <td>0.00000000</td>\n",
              "    </tr>\n",
              "    <tr>\n",
              "      <th>2011-09-13 18:00:00</th>\n",
              "      <td>5.92000000</td>\n",
              "      <td>5.97000000</td>\n",
              "      <td>5.92000000</td>\n",
              "      <td>5.97000000</td>\n",
              "      <td>8.47540000</td>\n",
              "    </tr>\n",
              "    <tr>\n",
              "      <th>2011-09-13 20:00:00</th>\n",
              "      <td>nan</td>\n",
              "      <td>nan</td>\n",
              "      <td>nan</td>\n",
              "      <td>nan</td>\n",
              "      <td>0.00000000</td>\n",
              "    </tr>\n",
              "  </tbody>\n",
              "</table>\n",
              "</div>"
            ],
            "text/plain": [
              "                          open       high        low      close      volume\n",
              "date                                                                       \n",
              "2011-09-13 12:00:00 5.80000000 6.00000000 5.80000000 6.00000000 25.00000000\n",
              "2011-09-13 14:00:00 5.95000000 5.95000000 5.65000000 5.65000000 24.89598238\n",
              "2011-09-13 16:00:00        nan        nan        nan        nan  0.00000000\n",
              "2011-09-13 18:00:00 5.92000000 5.97000000 5.92000000 5.97000000  8.47540000\n",
              "2011-09-13 20:00:00        nan        nan        nan        nan  0.00000000"
            ]
          },
          "metadata": {
            "tags": []
          },
          "execution_count": 98
        }
      ]
    },
    {
      "cell_type": "code",
      "metadata": {
        "id": "vA45CwcxMf6u",
        "colab_type": "code",
        "outputId": "0b55e1ae-b074-4c07-fdcb-4fb101c533ef",
        "colab": {
          "base_uri": "https://localhost:8080/",
          "height": 235
        }
      },
      "source": [
        "#Prepare data \n",
        "data = data.interpolate()\n",
        "data['returns'] = data['high'].pct_change(periods=1)\n",
        "data.head()"
      ],
      "execution_count": 0,
      "outputs": [
        {
          "output_type": "execute_result",
          "data": {
            "text/html": [
              "<div>\n",
              "<style scoped>\n",
              "    .dataframe tbody tr th:only-of-type {\n",
              "        vertical-align: middle;\n",
              "    }\n",
              "\n",
              "    .dataframe tbody tr th {\n",
              "        vertical-align: top;\n",
              "    }\n",
              "\n",
              "    .dataframe thead th {\n",
              "        text-align: right;\n",
              "    }\n",
              "</style>\n",
              "<table border=\"1\" class=\"dataframe\">\n",
              "  <thead>\n",
              "    <tr style=\"text-align: right;\">\n",
              "      <th></th>\n",
              "      <th>open</th>\n",
              "      <th>high</th>\n",
              "      <th>low</th>\n",
              "      <th>close</th>\n",
              "      <th>volume</th>\n",
              "      <th>returns</th>\n",
              "    </tr>\n",
              "    <tr>\n",
              "      <th>date</th>\n",
              "      <th></th>\n",
              "      <th></th>\n",
              "      <th></th>\n",
              "      <th></th>\n",
              "      <th></th>\n",
              "      <th></th>\n",
              "    </tr>\n",
              "  </thead>\n",
              "  <tbody>\n",
              "    <tr>\n",
              "      <th>2011-09-13 12:00:00</th>\n",
              "      <td>5.80000000</td>\n",
              "      <td>6.00000000</td>\n",
              "      <td>5.80000000</td>\n",
              "      <td>6.00000000</td>\n",
              "      <td>25.00000000</td>\n",
              "      <td>nan</td>\n",
              "    </tr>\n",
              "    <tr>\n",
              "      <th>2011-09-13 14:00:00</th>\n",
              "      <td>5.95000000</td>\n",
              "      <td>5.95000000</td>\n",
              "      <td>5.65000000</td>\n",
              "      <td>5.65000000</td>\n",
              "      <td>24.89598238</td>\n",
              "      <td>-0.00833333</td>\n",
              "    </tr>\n",
              "    <tr>\n",
              "      <th>2011-09-13 16:00:00</th>\n",
              "      <td>5.93500000</td>\n",
              "      <td>5.96000000</td>\n",
              "      <td>5.78500000</td>\n",
              "      <td>5.81000000</td>\n",
              "      <td>0.00000000</td>\n",
              "      <td>0.00168067</td>\n",
              "    </tr>\n",
              "    <tr>\n",
              "      <th>2011-09-13 18:00:00</th>\n",
              "      <td>5.92000000</td>\n",
              "      <td>5.97000000</td>\n",
              "      <td>5.92000000</td>\n",
              "      <td>5.97000000</td>\n",
              "      <td>8.47540000</td>\n",
              "      <td>0.00167785</td>\n",
              "    </tr>\n",
              "    <tr>\n",
              "      <th>2011-09-13 20:00:00</th>\n",
              "      <td>5.86333333</td>\n",
              "      <td>5.91166667</td>\n",
              "      <td>5.85666667</td>\n",
              "      <td>5.91166667</td>\n",
              "      <td>0.00000000</td>\n",
              "      <td>-0.00977108</td>\n",
              "    </tr>\n",
              "  </tbody>\n",
              "</table>\n",
              "</div>"
            ],
            "text/plain": [
              "                          open       high  ...      volume     returns\n",
              "date                                       ...                        \n",
              "2011-09-13 12:00:00 5.80000000 6.00000000  ... 25.00000000         nan\n",
              "2011-09-13 14:00:00 5.95000000 5.95000000  ... 24.89598238 -0.00833333\n",
              "2011-09-13 16:00:00 5.93500000 5.96000000  ...  0.00000000  0.00168067\n",
              "2011-09-13 18:00:00 5.92000000 5.97000000  ...  8.47540000  0.00167785\n",
              "2011-09-13 20:00:00 5.86333333 5.91166667  ...  0.00000000 -0.00977108\n",
              "\n",
              "[5 rows x 6 columns]"
            ]
          },
          "metadata": {
            "tags": []
          },
          "execution_count": 100
        }
      ]
    },
    {
      "cell_type": "code",
      "metadata": {
        "id": "PVGOKj-MT4TV",
        "colab_type": "code",
        "colab": {}
      },
      "source": [
        "\n",
        "#for i in range (0, data.shape[0]-2):\n",
        "  #data.loc[data.index[i+2],'SMA_3'] = np.round(((data.iloc[i,4]+ data.iloc[i+1,4] + data.iloc[i+2,4])/3),4)\n",
        "#data.head()"
      ],
      "execution_count": 0,
      "outputs": []
    },
    {
      "cell_type": "code",
      "metadata": {
        "id": "_ziS-8fiMvLP",
        "colab_type": "code",
        "colab": {}
      },
      "source": [
        "#Split data into training and validation sets\n",
        "N = data.shape[0]\n",
        "split_t = int(N * .66)                               # 2/3 to training & 1/3 to validation\n",
        "\n",
        "time_train = data.index[1:split_t]                   # skip to first value since it(the return) is NaN\n",
        "x_train = data['returns'][1:split_t].to_numpy()      # first 2/3\n",
        "y_train = 100 * data['returns'][2:split_t + 1].to_numpy()  # first 2/3     why do we need 100 here, and why do we use the overlay method here \n",
        "time_valid = data.index[split_t:]\n",
        "x_valid = data['returns'][split_t:-1].to_numpy()     # last 1/3\n",
        "y_valid = 100 * data['returns'][split_t + 1:].to_numpy()   # last 1/3"
      ],
      "execution_count": 0,
      "outputs": []
    },
    {
      "cell_type": "code",
      "metadata": {
        "id": "bkz4qNotNnR1",
        "colab_type": "code",
        "outputId": "aac8f337-18d0-497d-e3b6-98fed252d776",
        "colab": {
          "base_uri": "https://localhost:8080/",
          "height": 282
        }
      },
      "source": [
        "plt.hist(y_train, 100) #what does 100 here means, how do we interpret the graph \n",
        "plt.xlim([-3, 3])"
      ],
      "execution_count": 0,
      "outputs": [
        {
          "output_type": "execute_result",
          "data": {
            "text/plain": [
              "(-3, 3)"
            ]
          },
          "metadata": {
            "tags": []
          },
          "execution_count": 5
        },
        {
          "output_type": "display_data",
          "data": {
            "image/png": "[encoded data removed]",
            "text/plain": [
              "<Figure size 432x288 with 1 Axes>"
            ]
          },
          "metadata": {
            "tags": []
          }
        }
      ]
    },
    {
      "cell_type": "code",
      "metadata": {
        "id": "ZFcYOAKbcOgc",
        "colab_type": "code",
        "colab": {}
      },
      "source": [
        "batch_sz = 32\n",
        "win_sz = 48\n",
        "train_data = windowed_dataset(x_train, y_train, win_sz,\n",
        "                              batch_sz, kind='class')\n",
        "valid_data = windowed_dataset(x_valid, y_valid, win_sz,\n",
        "                              batch_sz, kind='class')"
      ],
      "execution_count": 0,
      "outputs": []
    },
    {
      "cell_type": "code",
      "metadata": {
        "id": "OGnAikVtOcYy",
        "colab_type": "code",
        "colab": {}
      },
      "source": [
        "#Build a model \n",
        "def get_model(lr):\n",
        "    model = tf.keras.models.Sequential([\n",
        "        tf.keras.layers.Lambda(lambda x: tf.expand_dims(x, axis=-1),\n",
        "                               input_shape=[None]),\n",
        "        tf.keras.layers.Bidirectional(\n",
        "            tf.keras.layers.LSTM(32, return_sequences=True)),\n",
        "        tf.keras.layers.Bidirectional(\n",
        "            tf.keras.layers.LSTM(32, return_sequences=True)),\n",
        "        tf.keras.layers.Dense(1)])\n",
        "\n",
        "    optimizer = tf.keras.optimizers.SGD(lr=lr, momentum=.9)\n",
        "    model.compile(loss=tf.keras.losses.binary_crossentropy,\n",
        "                  optimizer=optimizer,\n",
        "                  metrics=['accuracy'])\n",
        "\n",
        "    return model"
      ],
      "execution_count": 0,
      "outputs": []
    },
    {
      "cell_type": "code",
      "metadata": {
        "id": "T1ZvapNBSQgn",
        "colab_type": "code",
        "colab": {}
      },
      "source": [
        "def optimize_lr(model, train_data):\n",
        "    tf.keras.backend.clear_session()\n",
        "    lr_schedule = tf.keras.callbacks.LearningRateScheduler(\n",
        "        lambda epoch: 1e-8 * 10**(epoch / 20))\n",
        "\n",
        "    history = model.fit(train_data, epochs=100, callbacks=[lr_schedule])\n",
        "\n",
        "    fig = plt.figure(figsize=[16, 6])\n",
        "    ax = fig.add_subplot(121)\n",
        "    ax.semilogx(history.history[\"lr\"], history.history[\"loss\"])\n",
        "    # get index of lowest loss\n",
        "    minloss_i = np.argmin(history.history['loss'])\n",
        "    # get the learning rate at that index\n",
        "    min_lr = history.history['lr'][minloss_i]\n",
        "    # plot best learing rate, and add value to label\n",
        "    ax.plot([min_lr, min_lr], ax.get_ylim(), 'r',\n",
        "            label='best lr: {:.5E}'.format(min_lr))\n",
        "\n",
        "    ax = fig.add_subplot(122)\n",
        "    ax.semilogx(history.history[\"lr\"], history.history[\"loss\"])\n",
        "    # ax.set_ylim([0, 1e-4])\n",
        "    ax.set_xlim([history.history[\"lr\"][0], 1e-5])\n",
        "    ylim = ax.get_ylim()\n",
        "    ax.set_ylim([ylim[0] * 1.000025, ylim[-1] * .99933])\n",
        "    # get index of lowest loss\n",
        "    minloss_i = np.argmin(history.history['loss'])\n",
        "    # get the learning rate at that index\n",
        "    min_lr = history.history['lr'][minloss_i]\n",
        "    # plot best learing rate, and add value to label\n",
        "    ax.plot([min_lr, min_lr], ax.get_ylim(), 'r',\n",
        "            label='best lr: {:.5E}'.format(min_lr))\n",
        "    # Print the best learning rate\n",
        "    print('best learning rate:', min_lr)\n",
        "    ax.set_xlabel('learning rate')\n",
        "    ax.set_ylabel('loss')\n",
        "    ax.set_title('Loss as a function of learning rate')\n",
        "    ax.legend()\n",
        "\n",
        "    fig.savefig('loss_lr.png')\n",
        "\n",
        "    # Print the best learning rate\n",
        "    print('best learning rate:', min_lr)\n",
        "\n",
        "    return history"
      ],
      "execution_count": 0,
      "outputs": []
    },
    {
      "cell_type": "code",
      "metadata": {
        "id": "L0FRc164cXGN",
        "colab_type": "code",
        "outputId": "b2a9da02-c761-495d-f92a-3824c5668c81",
        "colab": {
          "base_uri": "https://localhost:8080/",
          "height": 1000
        }
      },
      "source": [
        "model = get_model(lr=1e-8)\n",
        "history = optimize_lr(model, train_data)"
      ],
      "execution_count": 0,
      "outputs": [
        {
          "output_type": "stream",
          "text": [
            "Train for 732 steps\n",
            "Epoch 1/100\n",
            "732/732 [==============================] - 60s 82ms/step - loss: 2.0203 - accuracy: 0.5580\n",
            "Epoch 2/100\n",
            "732/732 [==============================] - 53s 72ms/step - loss: 1.7351 - accuracy: 0.5606\n",
            "Epoch 3/100\n",
            "732/732 [==============================] - 52s 71ms/step - loss: 1.6148 - accuracy: 0.5617\n",
            "Epoch 4/100\n",
            "732/732 [==============================] - 50s 68ms/step - loss: 1.5540 - accuracy: 0.5559\n",
            "Epoch 5/100\n",
            "732/732 [==============================] - 51s 70ms/step - loss: 1.5032 - accuracy: 0.5516\n",
            "Epoch 6/100\n",
            "732/732 [==============================] - 49s 68ms/step - loss: 1.4392 - accuracy: 0.5545\n",
            "Epoch 7/100\n",
            "732/732 [==============================] - 50s 68ms/step - loss: 1.3755 - accuracy: 0.5601\n",
            "Epoch 8/100\n",
            "732/732 [==============================] - 49s 67ms/step - loss: 1.3481 - accuracy: 0.5553\n",
            "Epoch 9/100\n",
            "732/732 [==============================] - 49s 67ms/step - loss: 1.3277 - accuracy: 0.5489\n",
            "Epoch 10/100\n",
            "732/732 [==============================] - 49s 66ms/step - loss: 1.2780 - accuracy: 0.5538\n",
            "Epoch 11/100\n",
            "732/732 [==============================] - 49s 67ms/step - loss: 1.2363 - accuracy: 0.5571\n",
            "Epoch 12/100\n",
            "732/732 [==============================] - 49s 66ms/step - loss: 1.2016 - accuracy: 0.5587\n",
            "Epoch 13/100\n",
            "732/732 [==============================] - 48s 66ms/step - loss: 1.1800 - accuracy: 0.5557\n",
            "Epoch 14/100\n",
            "732/732 [==============================] - 49s 67ms/step - loss: 1.1616 - accuracy: 0.5516\n",
            "Epoch 15/100\n",
            "732/732 [==============================] - 49s 66ms/step - loss: 1.1192 - accuracy: 0.5582\n",
            "Epoch 16/100\n",
            "732/732 [==============================] - 48s 66ms/step - loss: 1.0828 - accuracy: 0.5631\n",
            "Epoch 17/100\n",
            "732/732 [==============================] - 49s 67ms/step - loss: 1.0661 - accuracy: 0.5598\n",
            "Epoch 18/100\n",
            "732/732 [==============================] - 49s 67ms/step - loss: 1.0458 - accuracy: 0.5583\n",
            "Epoch 19/100\n",
            "732/732 [==============================] - 49s 67ms/step - loss: 1.0310 - accuracy: 0.5543\n",
            "Epoch 20/100\n",
            "732/732 [==============================] - 50s 68ms/step - loss: 0.9982 - accuracy: 0.5595\n",
            "Epoch 21/100\n",
            "732/732 [==============================] - 49s 67ms/step - loss: 0.9726 - accuracy: 0.5619\n",
            "Epoch 22/100\n",
            "732/732 [==============================] - 49s 66ms/step - loss: 0.9542 - accuracy: 0.5609\n",
            "Epoch 23/100\n",
            "732/732 [==============================] - 49s 67ms/step - loss: 0.9444 - accuracy: 0.5552\n",
            "Epoch 24/100\n",
            "732/732 [==============================] - 53s 73ms/step - loss: 0.9226 - accuracy: 0.5565\n",
            "Epoch 25/100\n",
            "732/732 [==============================] - 53s 73ms/step - loss: 0.9040 - accuracy: 0.5564\n",
            "Epoch 26/100\n",
            "732/732 [==============================] - 53s 73ms/step - loss: 0.8835 - accuracy: 0.5579\n",
            "Epoch 27/100\n",
            "732/732 [==============================] - 53s 73ms/step - loss: 0.8657 - accuracy: 0.5584\n",
            "Epoch 28/100\n",
            "732/732 [==============================] - 53s 73ms/step - loss: 0.8567 - accuracy: 0.5530\n",
            "Epoch 29/100\n",
            "732/732 [==============================] - 57s 78ms/step - loss: 0.8377 - accuracy: 0.5550\n",
            "Epoch 30/100\n",
            "732/732 [==============================] - 54s 73ms/step - loss: 0.8214 - accuracy: 0.5557\n",
            "Epoch 31/100\n",
            "732/732 [==============================] - 54s 74ms/step - loss: 0.8069 - accuracy: 0.5558\n",
            "Epoch 32/100\n",
            "732/732 [==============================] - 54s 74ms/step - loss: 0.7910 - accuracy: 0.5576\n",
            "Epoch 33/100\n",
            "732/732 [==============================] - 52s 72ms/step - loss: 0.7822 - accuracy: 0.5542\n",
            "Epoch 34/100\n",
            "732/732 [==============================] - 53s 72ms/step - loss: 0.7665 - accuracy: 0.5576\n",
            "Epoch 35/100\n",
            "732/732 [==============================] - 53s 73ms/step - loss: 0.7543 - accuracy: 0.5590\n",
            "Epoch 36/100\n",
            "732/732 [==============================] - 54s 73ms/step - loss: 0.7442 - accuracy: 0.5592\n",
            "Epoch 37/100\n",
            "732/732 [==============================] - 53s 73ms/step - loss: 0.7392 - accuracy: 0.5546\n",
            "Epoch 38/100\n",
            "732/732 [==============================] - 54s 73ms/step - loss: 0.7263 - accuracy: 0.5602\n",
            "Epoch 39/100\n",
            "732/732 [==============================] - 52s 72ms/step - loss: 0.7146 - accuracy: 0.5668\n",
            "Epoch 40/100\n",
            "732/732 [==============================] - 52s 71ms/step - loss: 0.7129 - accuracy: 0.5611\n",
            "Epoch 41/100\n",
            "732/732 [==============================] - 51s 69ms/step - loss: 0.7117 - accuracy: 0.5547\n",
            "Epoch 42/100\n",
            "732/732 [==============================] - 46s 63ms/step - loss: 0.7084 - accuracy: 0.5517\n",
            "Epoch 43/100\n",
            "732/732 [==============================] - 45s 62ms/step - loss: 0.7028 - accuracy: 0.5543\n",
            "Epoch 44/100\n",
            "732/732 [==============================] - 47s 64ms/step - loss: 0.6978 - accuracy: 0.5580\n",
            "Epoch 45/100\n",
            "732/732 [==============================] - 48s 66ms/step - loss: 0.6972 - accuracy: 0.5543\n",
            "Epoch 46/100\n",
            "732/732 [==============================] - 48s 65ms/step - loss: 0.6935 - accuracy: 0.5590\n",
            "Epoch 47/100\n",
            "732/732 [==============================] - 49s 67ms/step - loss: 0.6924 - accuracy: 0.5590\n",
            "Epoch 48/100\n",
            "732/732 [==============================] - 49s 67ms/step - loss: 0.6934 - accuracy: 0.5539\n",
            "Epoch 49/100\n",
            "732/732 [==============================] - 48s 66ms/step - loss: 0.6906 - accuracy: 0.5608\n",
            "Epoch 50/100\n",
            "732/732 [==============================] - 49s 67ms/step - loss: 0.6919 - accuracy: 0.5558\n",
            "Epoch 51/100\n",
            "732/732 [==============================] - 48s 66ms/step - loss: 0.6895 - accuracy: 0.5635\n",
            "Epoch 52/100\n",
            "732/732 [==============================] - 45s 62ms/step - loss: 0.6915 - accuracy: 0.5559\n",
            "Epoch 53/100\n",
            "732/732 [==============================] - 46s 62ms/step - loss: 0.6933 - accuracy: 0.5486\n",
            "Epoch 54/100\n",
            "732/732 [==============================] - 45s 61ms/step - loss: 0.6908 - accuracy: 0.5580\n",
            "Epoch 55/100\n",
            "732/732 [==============================] - 46s 62ms/step - loss: 0.6914 - accuracy: 0.5555\n",
            "Epoch 56/100\n",
            "732/732 [==============================] - 45s 62ms/step - loss: 0.6915 - accuracy: 0.5549\n",
            "Epoch 57/100\n",
            "732/732 [==============================] - 45s 62ms/step - loss: 0.6911 - accuracy: 0.5564\n",
            "Epoch 58/100\n",
            "732/732 [==============================] - 46s 63ms/step - loss: 0.6892 - accuracy: 0.5637\n",
            "Epoch 59/100\n",
            "732/732 [==============================] - 45s 62ms/step - loss: 0.6908 - accuracy: 0.5575\n",
            "Epoch 60/100\n",
            "732/732 [==============================] - 45s 61ms/step - loss: 0.6918 - accuracy: 0.5530\n",
            "Epoch 61/100\n",
            "732/732 [==============================] - 45s 62ms/step - loss: 0.6916 - accuracy: 0.5534\n",
            "Epoch 62/100\n",
            "732/732 [==============================] - 45s 61ms/step - loss: 0.6913 - accuracy: 0.5546\n",
            "Epoch 63/100\n",
            "732/732 [==============================] - 46s 62ms/step - loss: 0.6911 - accuracy: 0.5551\n",
            "Epoch 64/100\n",
            "732/732 [==============================] - 53s 72ms/step - loss: 0.6911 - accuracy: 0.5547\n",
            "Epoch 65/100\n",
            "732/732 [==============================] - 49s 67ms/step - loss: 0.6892 - accuracy: 0.5623\n",
            "Epoch 66/100\n",
            "732/732 [==============================] - 50s 68ms/step - loss: 0.6894 - accuracy: 0.5611\n",
            "Epoch 67/100\n",
            "732/732 [==============================] - 49s 67ms/step - loss: 0.6905 - accuracy: 0.5564\n",
            "Epoch 68/100\n",
            "732/732 [==============================] - 49s 67ms/step - loss: 0.6910 - accuracy: 0.5536\n",
            "Epoch 69/100\n",
            "732/732 [==============================] - 50s 68ms/step - loss: 0.6892 - accuracy: 0.5608\n",
            "Epoch 70/100\n",
            "732/732 [==============================] - 49s 68ms/step - loss: 0.6895 - accuracy: 0.5591\n",
            "Epoch 71/100\n",
            "732/732 [==============================] - 50s 68ms/step - loss: 0.6900 - accuracy: 0.5564\n",
            "Epoch 72/100\n",
            "732/732 [==============================] - 49s 67ms/step - loss: 0.6893 - accuracy: 0.5587\n",
            "Epoch 73/100\n",
            "732/732 [==============================] - 49s 67ms/step - loss: 0.6892 - accuracy: 0.5583\n",
            "Epoch 74/100\n",
            "732/732 [==============================] - 49s 67ms/step - loss: 0.6900 - accuracy: 0.5545\n",
            "Epoch 75/100\n",
            "732/732 [==============================] - 49s 67ms/step - loss: 0.6878 - accuracy: 0.5628\n",
            "Epoch 76/100\n",
            "732/732 [==============================] - 49s 67ms/step - loss: 0.6888 - accuracy: 0.5578\n",
            "Epoch 77/100\n",
            "732/732 [==============================] - 50s 68ms/step - loss: 0.6894 - accuracy: 0.5550\n",
            "Epoch 78/100\n",
            "696/732 [===========================>..] - ETA: 2s - loss: 0.6888 - accuracy: 0.5570Buffered data was truncated after reaching the output size limit."
          ],
          "name": "stdout"
        }
      ]
    },
    {
      "cell_type": "code",
      "metadata": {
        "id": "c8cXsOKEUHTA",
        "colab_type": "code",
        "colab": {}
      },
      "source": [
        "# 2nd train with best learning rate and more epochs \n",
        "tf.keras.backend.clear_session()\n",
        "best_lr = 7.94328e-04\n",
        "epochs = 300\n",
        "model = get_model(lr=best_lr)\n",
        "history = model.fit(train_data, epochs=epochs, validation_data=valid_data)\n",
        "\n",
        "# Saves the model in an HDF5 file called 'BidirLSTM_2layer_epochs<EPOCHS>.h5'\n",
        "model.save('BidirLSTM_2layer_class_epochs%d.h5' % epochs)\n",
        "# save the history for later plotting\n",
        "np.save('BidirLSTM_2layer_class_epochs%d' % epochs, history.history)"
      ],
      "execution_count": 0,
      "outputs": []
    },
    {
      "cell_type": "code",
      "metadata": {
        "id": "qSAd5ugyXWMc",
        "colab_type": "code",
        "colab": {}
      },
      "source": [
        "# Load a saved model\n",
        "model = tf.keras.models.load_model('BidirLSTM_2layer_class_epochs%d.h5' % epochs)"
      ],
      "execution_count": 0,
      "outputs": []
    },
    {
      "cell_type": "code",
      "metadata": {
        "id": "5pY3SOA6XXSH",
        "colab_type": "code",
        "outputId": "23d70287-a1e3-4eac-844f-c3ccfbf876bf",
        "colab": {
          "base_uri": "https://localhost:8080/",
          "height": 640
        }
      },
      "source": [
        "# EVALUATE forcast performance \n",
        "forecast = model.predict(x_valid) \n",
        "mean_forecast = np.ones(x_valid[win_sz:].shape) * x_valid.mean() \n",
        "rnn_mse = mean_squared_error(x_valid[win_sz+1:], forecast[win_sz:-1].flatten())\n",
        "meanforecast_mse = mean_squared_error(x_valid[win_sz:], mean_forecast)\n",
        "print('LSTM validation MSE: %.6f, mean forecast: %.6f' % (rnn_mse, meanforecast_mse))\n",
        "\n",
        "\n",
        "fig = plt.figure(figsize=[14,10])\n",
        "ax = fig.add_subplot(211)\n",
        "ax.plot(x_valid[win_sz+1:], '.-', color=[.8]*3, mfc='k', mec='k', label='x_valid')\n",
        "ax.plot(forecast[win_sz:-1].flatten(), '.-', color=[.8, .6, .6], mfc='r', mec='r', label='forecast')\n",
        "ax.legend()\n",
        "ax.set_ylabel('Percent change')\n",
        "\n",
        "ax = fig.add_subplot(212)\n",
        "ax.plot(x_valid[win_sz+40001:], '.-', color=[.8]*3, mfc='k', mec='k', label='x_valid')\n",
        "ax.plot(forecast[win_sz+40000:-1].flatten(), '.-', color=[.8, .6, .6], mfc='r', mec='r', label='forecast')\n",
        "ax.set_ylim([-.005, 0.005])\n",
        "ax.legend()\n",
        "ax.set_xlabel('time step (index)')\n",
        "ax.set_ylabel('Percent change')"
      ],
      "execution_count": 0,
      "outputs": [
        {
          "output_type": "stream",
          "text": [
            "LSTM validation MSE: 58706.920440, mean forecast: 0.000135\n"
          ],
          "name": "stdout"
        },
        {
          "output_type": "execute_result",
          "data": {
            "text/plain": [
              "Text(0, 0.5, 'Percent change')"
            ]
          },
          "metadata": {
            "tags": []
          },
          "execution_count": 17
        },
        {
          "output_type": "display_data",
          "data": {
            "image/png": "[encoded data removed]",
            "text/plain": [
              "<Figure size 1008x720 with 2 Axes>"
            ]
          },
          "metadata": {
            "tags": []
          }
        }
      ]
    },
    {
      "cell_type": "code",
      "metadata": {
        "id": "mVejFdbanFJh",
        "colab_type": "code",
        "outputId": "502bf11e-20f3-417a-880f-016a517dfa2f",
        "colab": {
          "base_uri": "https://localhost:8080/",
          "height": 51
        }
      },
      "source": [
        "y_true = x_valid[win_sz+1:] > 0\n",
        "y_hat = forecast[win_sz:-1].flatten() > 0\n",
        "acc = 100 * (y_true == y_hat).sum() / len(y_true)\n",
        "chance = max(y_true.mean(), 1 - y_true.mean()) * 100             \n",
        "print('Forecasting direction of change\\n\\tAccuracy: %1.3f%% (chance: %1.3f%%)' % (acc, chance))"
      ],
      "execution_count": 0,
      "outputs": [
        {
          "output_type": "stream",
          "text": [
            "Forecasting direction of change\n",
            "\tAccuracy: 45.924% (chance: 54.076%)\n"
          ],
          "name": "stdout"
        }
      ]
    },
    {
      "cell_type": "code",
      "metadata": {
        "id": "eCusx_VBnVhM",
        "colab_type": "code",
        "colab": {}
      },
      "source": [
        "# Check how many epochs are required to minimize the loss\n",
        "# Load history saved from training\n",
        "history = np.load('BidirLSTM_2layer_class_epochs%d.npy' % epochs, allow_pickle=True).item()"
      ],
      "execution_count": 0,
      "outputs": []
    },
    {
      "cell_type": "code",
      "metadata": {
        "id": "fsA1ALXWnkcp",
        "colab_type": "code",
        "outputId": "3aa34008-95ce-4fe0-e9a8-50bb7acb9891",
        "colab": {
          "base_uri": "https://localhost:8080/",
          "height": 34
        }
      },
      "source": [
        "history.keys()"
      ],
      "execution_count": 0,
      "outputs": [
        {
          "output_type": "execute_result",
          "data": {
            "text/plain": [
              "dict_keys(['loss', 'accuracy', 'val_loss', 'val_accuracy'])"
            ]
          },
          "metadata": {
            "tags": []
          },
          "execution_count": 20
        }
      ]
    },
    {
      "cell_type": "code",
      "metadata": {
        "id": "AVUV7ay7nmsE",
        "colab_type": "code",
        "outputId": "4e29c973-7483-462d-a75d-0d7c700db295",
        "colab": {
          "base_uri": "https://localhost:8080/",
          "height": 409
        }
      },
      "source": [
        "fig = plt.figure(figsize=[16, 6])\n",
        "ax = fig.add_subplot(121)\n",
        "ax.plot(history['loss'], label='training loss')\n",
        "ax.plot(history['val_loss'], label='validation loss')\n",
        "ax.set_xlabel('epoch')\n",
        "ax.legend()\n",
        "\n",
        "ax = fig.add_subplot(122)\n",
        "ax.plot(history['loss'], label='training loss')\n",
        "ax.plot(history['val_loss'], label='validation loss')\n",
        "# ax.set_ylim([7.2193185e-06, 7.219321e-06])\n",
        "ax.set_ylim([0, 3])\n",
        "ax.set_ylabel('loss')\n",
        "ax.set_xlabel('epoch')\n",
        "ax.legend()"
      ],
      "execution_count": 0,
      "outputs": [
        {
          "output_type": "execute_result",
          "data": {
            "text/plain": [
              "<matplotlib.legend.Legend at 0x7f1eadcb45f8>"
            ]
          },
          "metadata": {
            "tags": []
          },
          "execution_count": 21
        },
        {
          "output_type": "display_data",
          "data": {
            "image/png": "[encoded data removed]",
            "text/plain": [
              "<Figure size 1152x432 with 2 Axes>"
            ]
          },
          "metadata": {
            "tags": []
          }
        }
      ]
    },
    {
      "cell_type": "code",
      "metadata": {
        "colab_type": "code",
        "id": "IWminsb33KAw",
        "outputId": "fbfb2e6f-e85a-4de9-898b-ec8fdd1df7ea",
        "colab": {
          "base_uri": "https://localhost:8080/",
          "height": 34
        }
      },
      "source": [
        "#Get testing data\n",
        "from helper import get_klines\n",
        "klines = get_klines(start_t=[2019, 10, 18, 0, 0, 0], end_t=[2019, 11, 18, 0, 0, 0], interval='2h')\n",
        "klines.to_csv('data/BTCUSD_2h_2011-10-18_to_2019-11-18_binance.csv')"
      ],
      "execution_count": 2,
      "outputs": [
        {
          "output_type": "stream",
          "text": [
            "2019-11-18 01:59\n"
          ],
          "name": "stdout"
        }
      ]
    },
    {
      "cell_type": "code",
      "metadata": {
        "colab_type": "code",
        "id": "Lx1ayvB53JHv",
        "outputId": "88f5f35a-9ae6-47c7-8dfe-bcc59d316c84",
        "colab": {
          "base_uri": "https://localhost:8080/",
          "height": 235
        }
      },
      "source": [
        "klines.head()"
      ],
      "execution_count": 3,
      "outputs": [
        {
          "output_type": "execute_result",
          "data": {
            "text/html": [
              "<div>\n",
              "<style scoped>\n",
              "    .dataframe tbody tr th:only-of-type {\n",
              "        vertical-align: middle;\n",
              "    }\n",
              "\n",
              "    .dataframe tbody tr th {\n",
              "        vertical-align: top;\n",
              "    }\n",
              "\n",
              "    .dataframe thead th {\n",
              "        text-align: right;\n",
              "    }\n",
              "</style>\n",
              "<table border=\"1\" class=\"dataframe\">\n",
              "  <thead>\n",
              "    <tr style=\"text-align: right;\">\n",
              "      <th></th>\n",
              "      <th>open_ts</th>\n",
              "      <th>open</th>\n",
              "      <th>high</th>\n",
              "      <th>low</th>\n",
              "      <th>close</th>\n",
              "      <th>volume</th>\n",
              "      <th>close_ts</th>\n",
              "      <th>returns</th>\n",
              "    </tr>\n",
              "    <tr>\n",
              "      <th>date</th>\n",
              "      <th></th>\n",
              "      <th></th>\n",
              "      <th></th>\n",
              "      <th></th>\n",
              "      <th></th>\n",
              "      <th></th>\n",
              "      <th></th>\n",
              "      <th></th>\n",
              "    </tr>\n",
              "  </thead>\n",
              "  <tbody>\n",
              "    <tr>\n",
              "      <th>2019-10-18 01:59:59.999000+00:00</th>\n",
              "      <td>1.571357e+12</td>\n",
              "      <td>8070.71</td>\n",
              "      <td>8109.61</td>\n",
              "      <td>8050.00</td>\n",
              "      <td>8109.60</td>\n",
              "      <td>1522.883840</td>\n",
              "      <td>1.571364e+12</td>\n",
              "      <td>NaN</td>\n",
              "    </tr>\n",
              "    <tr>\n",
              "      <th>2019-10-18 03:59:59.999000+00:00</th>\n",
              "      <td>1.571364e+12</td>\n",
              "      <td>8109.60</td>\n",
              "      <td>8115.00</td>\n",
              "      <td>8055.05</td>\n",
              "      <td>8064.81</td>\n",
              "      <td>1628.399317</td>\n",
              "      <td>1.571371e+12</td>\n",
              "      <td>0.000665</td>\n",
              "    </tr>\n",
              "    <tr>\n",
              "      <th>2019-10-18 05:59:59.999000+00:00</th>\n",
              "      <td>1.571371e+12</td>\n",
              "      <td>8065.65</td>\n",
              "      <td>8072.54</td>\n",
              "      <td>7856.89</td>\n",
              "      <td>7908.74</td>\n",
              "      <td>5276.010216</td>\n",
              "      <td>1.571378e+12</td>\n",
              "      <td>-0.005232</td>\n",
              "    </tr>\n",
              "    <tr>\n",
              "      <th>2019-10-18 07:59:59.999000+00:00</th>\n",
              "      <td>1.571378e+12</td>\n",
              "      <td>7908.74</td>\n",
              "      <td>7927.74</td>\n",
              "      <td>7864.77</td>\n",
              "      <td>7911.60</td>\n",
              "      <td>3966.324236</td>\n",
              "      <td>1.571386e+12</td>\n",
              "      <td>-0.017937</td>\n",
              "    </tr>\n",
              "    <tr>\n",
              "      <th>2019-10-18 09:59:59.999000+00:00</th>\n",
              "      <td>1.571386e+12</td>\n",
              "      <td>7911.59</td>\n",
              "      <td>7923.87</td>\n",
              "      <td>7816.01</td>\n",
              "      <td>7909.76</td>\n",
              "      <td>4759.095133</td>\n",
              "      <td>1.571393e+12</td>\n",
              "      <td>-0.000488</td>\n",
              "    </tr>\n",
              "  </tbody>\n",
              "</table>\n",
              "</div>"
            ],
            "text/plain": [
              "                                       open_ts     open  ...      close_ts   returns\n",
              "date                                                     ...                        \n",
              "2019-10-18 01:59:59.999000+00:00  1.571357e+12  8070.71  ...  1.571364e+12       NaN\n",
              "2019-10-18 03:59:59.999000+00:00  1.571364e+12  8109.60  ...  1.571371e+12  0.000665\n",
              "2019-10-18 05:59:59.999000+00:00  1.571371e+12  8065.65  ...  1.571378e+12 -0.005232\n",
              "2019-10-18 07:59:59.999000+00:00  1.571378e+12  7908.74  ...  1.571386e+12 -0.017937\n",
              "2019-10-18 09:59:59.999000+00:00  1.571386e+12  7911.59  ...  1.571393e+12 -0.000488\n",
              "\n",
              "[5 rows x 8 columns]"
            ]
          },
          "metadata": {
            "tags": []
          },
          "execution_count": 3
        }
      ]
    },
    {
      "cell_type": "code",
      "metadata": {
        "colab_type": "code",
        "id": "RrsMdn9P3Iby",
        "outputId": "74c3a969-3de6-43d9-fd7a-bcf3d29eb3de",
        "colab": {
          "base_uri": "https://localhost:8080/",
          "height": 235
        }
      },
      "source": [
        "klines.tail()"
      ],
      "execution_count": 4,
      "outputs": [
        {
          "output_type": "execute_result",
          "data": {
            "text/html": [
              "<div>\n",
              "<style scoped>\n",
              "    .dataframe tbody tr th:only-of-type {\n",
              "        vertical-align: middle;\n",
              "    }\n",
              "\n",
              "    .dataframe tbody tr th {\n",
              "        vertical-align: top;\n",
              "    }\n",
              "\n",
              "    .dataframe thead th {\n",
              "        text-align: right;\n",
              "    }\n",
              "</style>\n",
              "<table border=\"1\" class=\"dataframe\">\n",
              "  <thead>\n",
              "    <tr style=\"text-align: right;\">\n",
              "      <th></th>\n",
              "      <th>open_ts</th>\n",
              "      <th>open</th>\n",
              "      <th>high</th>\n",
              "      <th>low</th>\n",
              "      <th>close</th>\n",
              "      <th>volume</th>\n",
              "      <th>close_ts</th>\n",
              "      <th>returns</th>\n",
              "    </tr>\n",
              "    <tr>\n",
              "      <th>date</th>\n",
              "      <th></th>\n",
              "      <th></th>\n",
              "      <th></th>\n",
              "      <th></th>\n",
              "      <th></th>\n",
              "      <th></th>\n",
              "      <th></th>\n",
              "      <th></th>\n",
              "    </tr>\n",
              "  </thead>\n",
              "  <tbody>\n",
              "    <tr>\n",
              "      <th>2019-11-17 17:59:59.999000+00:00</th>\n",
              "      <td>1.574006e+12</td>\n",
              "      <td>8529.52</td>\n",
              "      <td>8557.49</td>\n",
              "      <td>8525.16</td>\n",
              "      <td>8542.05</td>\n",
              "      <td>1509.126611</td>\n",
              "      <td>1.574014e+12</td>\n",
              "      <td>0.001533</td>\n",
              "    </tr>\n",
              "    <tr>\n",
              "      <th>2019-11-17 19:59:59.999000+00:00</th>\n",
              "      <td>1.574014e+12</td>\n",
              "      <td>8541.23</td>\n",
              "      <td>8567.55</td>\n",
              "      <td>8530.40</td>\n",
              "      <td>8553.19</td>\n",
              "      <td>1776.443029</td>\n",
              "      <td>1.574021e+12</td>\n",
              "      <td>0.001176</td>\n",
              "    </tr>\n",
              "    <tr>\n",
              "      <th>2019-11-17 21:59:59.999000+00:00</th>\n",
              "      <td>1.574021e+12</td>\n",
              "      <td>8552.96</td>\n",
              "      <td>8635.00</td>\n",
              "      <td>8519.00</td>\n",
              "      <td>8548.82</td>\n",
              "      <td>3194.598694</td>\n",
              "      <td>1.574028e+12</td>\n",
              "      <td>0.007873</td>\n",
              "    </tr>\n",
              "    <tr>\n",
              "      <th>2019-11-17 23:59:59.999000+00:00</th>\n",
              "      <td>1.574028e+12</td>\n",
              "      <td>8548.99</td>\n",
              "      <td>8553.00</td>\n",
              "      <td>8455.55</td>\n",
              "      <td>8502.40</td>\n",
              "      <td>1858.701267</td>\n",
              "      <td>1.574035e+12</td>\n",
              "      <td>-0.009496</td>\n",
              "    </tr>\n",
              "    <tr>\n",
              "      <th>2019-11-18 01:59:59.999000+00:00</th>\n",
              "      <td>1.574035e+12</td>\n",
              "      <td>8502.87</td>\n",
              "      <td>8503.52</td>\n",
              "      <td>8456.00</td>\n",
              "      <td>8483.94</td>\n",
              "      <td>1726.831323</td>\n",
              "      <td>1.574042e+12</td>\n",
              "      <td>-0.005785</td>\n",
              "    </tr>\n",
              "  </tbody>\n",
              "</table>\n",
              "</div>"
            ],
            "text/plain": [
              "                                       open_ts     open  ...      close_ts   returns\n",
              "date                                                     ...                        \n",
              "2019-11-17 17:59:59.999000+00:00  1.574006e+12  8529.52  ...  1.574014e+12  0.001533\n",
              "2019-11-17 19:59:59.999000+00:00  1.574014e+12  8541.23  ...  1.574021e+12  0.001176\n",
              "2019-11-17 21:59:59.999000+00:00  1.574021e+12  8552.96  ...  1.574028e+12  0.007873\n",
              "2019-11-17 23:59:59.999000+00:00  1.574028e+12  8548.99  ...  1.574035e+12 -0.009496\n",
              "2019-11-18 01:59:59.999000+00:00  1.574035e+12  8502.87  ...  1.574042e+12 -0.005785\n",
              "\n",
              "[5 rows x 8 columns]"
            ]
          },
          "metadata": {
            "tags": []
          },
          "execution_count": 4
        }
      ]
    },
    {
      "cell_type": "code",
      "metadata": {
        "id": "aRy7VfcOya3o",
        "colab_type": "code",
        "outputId": "586bb8f6-217d-4954-a8ae-1399cafcfade",
        "colab": {
          "base_uri": "https://localhost:8080/",
          "height": 411
        }
      },
      "source": [
        "# Backtesting \n",
        "!pip install git+git://github.com/anfederico/Gemini.git\n",
        "!pip install bokeh\n",
        "from gemini import engine\n",
        "from helper import load_binance_klines\n",
        "import os\n",
        "import numpy as np\n",
        "import tensorflow as tf"
      ],
      "execution_count": 5,
      "outputs": [
        {
          "output_type": "stream",
          "text": [
            "Collecting git+git://github.com/anfederico/Gemini.git\n",
            "  Cloning git://github.com/anfederico/Gemini.git to /tmp/pip-req-build-rdsun5pa\n",
            "  Running command git clone -q git://github.com/anfederico/Gemini.git /tmp/pip-req-build-rdsun5pa\n",
            "Building wheels for collected packages: gemini\n",
            "  Building wheel for gemini (setup.py) ... \u001b[?25l\u001b[?25hdone\n",
            "  Created wheel for gemini: filename=gemini-1.0.0-cp36-none-any.whl size=37371 sha256=0392ff4b75ad3e96a2c34208fc418af6a32dba3e5e37c6d15abad4ad21471bec\n",
            "  Stored in directory: /tmp/pip-ephem-wheel-cache-mu3a4870/wheels/96/c4/35/d73bfb8dc4304cc3bea43263d5efcf2f1b3985876acdcc3191\n",
            "Successfully built gemini\n",
            "Installing collected packages: gemini\n",
            "Successfully installed gemini-1.0.0\n",
            "Requirement already satisfied: bokeh in /usr/local/lib/python3.6/dist-packages (1.0.4)\n",
            "Requirement already satisfied: tornado>=4.3 in /usr/local/lib/python3.6/dist-packages (from bokeh) (4.5.3)\n",
            "Requirement already satisfied: pillow>=4.0 in /usr/local/lib/python3.6/dist-packages (from bokeh) (4.3.0)\n",
            "Requirement already satisfied: PyYAML>=3.10 in /usr/local/lib/python3.6/dist-packages (from bokeh) (3.13)\n",
            "Requirement already satisfied: python-dateutil>=2.1 in /usr/local/lib/python3.6/dist-packages (from bokeh) (2.6.1)\n",
            "Requirement already satisfied: packaging>=16.8 in /usr/local/lib/python3.6/dist-packages (from bokeh) (19.2)\n",
            "Requirement already satisfied: numpy>=1.7.1 in /tensorflow-2.0.0/python3.6 (from bokeh) (1.17.4)\n",
            "Requirement already satisfied: six>=1.5.2 in /tensorflow-2.0.0/python3.6 (from bokeh) (1.13.0)\n",
            "Requirement already satisfied: Jinja2>=2.7 in /usr/local/lib/python3.6/dist-packages (from bokeh) (2.10.3)\n",
            "Requirement already satisfied: olefile in /usr/local/lib/python3.6/dist-packages (from pillow>=4.0->bokeh) (0.46)\n",
            "Requirement already satisfied: pyparsing>=2.0.2 in /usr/local/lib/python3.6/dist-packages (from packaging>=16.8->bokeh) (2.4.5)\n",
            "Requirement already satisfied: MarkupSafe>=0.23 in /usr/local/lib/python3.6/dist-packages (from Jinja2>=2.7->bokeh) (1.1.1)\n"
          ],
          "name": "stdout"
        }
      ]
    },
    {
      "cell_type": "code",
      "metadata": {
        "id": "ANZ5AuH4yjgm",
        "colab_type": "code",
        "colab": {}
      },
      "source": [
        "# Helper function for pre-processing \n",
        "def preprocess(model, data, win_sz=30):\n",
        "    \"\"\"\n",
        "    \"\"\"\n",
        "    forecast = model.predict(data['returns'].to_numpy())\n",
        "    data['forecast'] = np.nan\n",
        "    data['forecast'][1:] = forecast[:-1].flatten().copy()\n",
        "\n",
        "    # drop the 1st two rows since the forcast in those is NaN\n",
        "    data = data.dropna(axis=0)\n",
        "    # or\n",
        "    # drop the first win_sz values since there wasn't enough prev data for\n",
        "    # full forecast\n",
        "    #data = data[win_sz:]\n",
        "    return data"
      ],
      "execution_count": 0,
      "outputs": []
    },
    {
      "cell_type": "code",
      "metadata": {
        "id": "LqDta97pYH-_",
        "colab_type": "code",
        "colab": {}
      },
      "source": [
        "# Trade logic \n",
        "def logic(account, lookback):\n",
        "    try:\n",
        "\n",
        "        current_t = lookback.iloc[-1]\n",
        "\n",
        "\n",
        "        if current_t['forecast'] > 0.00075:  # forcasted price increase\n",
        "\n",
        "            entry_price = current_t['close'] # price when the market close \n",
        "            risk = 0.7\n",
        "            entry_capital = account.buying_power * risk\n",
        "            if entry_capital > 0:\n",
        "                account.enter_position('long', entry_capital, entry_price)\n",
        "\n",
        "        elif current_t['forecast'] < 0.00075:  # forcasted price decrease\n",
        "            exit_price = current_t['close']\n",
        "            for position in account.positions:\n",
        "                if position.type == 'long':\n",
        "                    account.close_position(position, 0.7, exit_price) \n",
        "\n",
        "    except ValueError:\n",
        "        pass  # Handles lookback errors in beginning of dataset"
      ],
      "execution_count": 0,
      "outputs": []
    },
    {
      "cell_type": "code",
      "metadata": {
        "id": "4xPj0qPMYH_B",
        "colab_type": "code",
        "outputId": "83404acd-d7cd-4c4c-88bf-e53a29335328",
        "colab": {
          "base_uri": "https://localhost:8080/",
          "height": 360
        }
      },
      "source": [
        "# Prerun and backtesting \n",
        "# load pre-trainied model\n",
        "model = tf.keras.models.load_model('BidirLSTM_2layer_class_epochs300.h5')\n",
        "fname = os.path.join('data', 'BTCUSD_2h_2011-10-18_to_2019-11-18_binance.csv')\n",
        "# load data\n",
        "data = load_binance_klines(fname)\n",
        "# pre-process\n",
        "data = preprocess(model, data)\n",
        "# # initialize backtest\n",
        "backtest = engine.backtest(data)\n",
        "# Start backtesting custom logic with 10 (BTC) intital capital\n",
        "backtest.start(10, logic)\n",
        "# # check results\n",
        "backtest.results()"
      ],
      "execution_count": 8,
      "outputs": [
        {
          "output_type": "stream",
          "text": [
            "/usr/local/lib/python3.6/dist-packages/ipykernel_launcher.py:6: SettingWithCopyWarning: \n",
            "A value is trying to be set on a copy of a slice from a DataFrame\n",
            "\n",
            "See the caveats in the documentation: http://pandas.pydata.org/pandas-docs/stable/user_guide/indexing.html#returning-a-view-versus-a-copy\n",
            "  \n"
          ],
          "name": "stderr"
        },
        {
          "output_type": "stream",
          "text": [
            "-------------- Results ----------------\n",
            "\n",
            "Buy and Hold : 5.19%\n",
            "Net Profit   : 0.52\n",
            "Strategy     : 7.2%\n",
            "Net Profit   : 0.72\n",
            "Longs        : 370\n",
            "Sells        : 0\n",
            "Shorts       : 0\n",
            "Covers       : 0\n",
            "--------------------\n",
            "Total Trades : 370\n",
            "\n",
            "---------------------------------------\n"
          ],
          "name": "stdout"
        }
      ]
    },
    {
      "cell_type": "code",
      "metadata": {
        "id": "faKQpZDRmzE6",
        "colab_type": "code",
        "outputId": "2d1b0387-d73b-4f01-afac-a9ad43080637",
        "colab": {
          "base_uri": "https://localhost:8080/",
          "height": 598
        }
      },
      "source": [
        "!pip install python.binance"
      ],
      "execution_count": 0,
      "outputs": [
        {
          "output_type": "stream",
          "text": [
            "Collecting python.binance\n",
            "  Using cached https://files.pythonhosted.org/packages/b3/a8/80f39763ea30f5d62088ec6796c93df83ad79ebe634253ee8e93e7b42d8e/python_binance-0.7.4-py2.py3-none-any.whl\n",
            "Requirement already satisfied: autobahn in /usr/local/lib/python3.6/dist-packages (from python.binance) (19.11.1)\n",
            "Requirement already satisfied: six in /usr/local/lib/python3.6/dist-packages (from python.binance) (1.12.0)\n",
            "Requirement already satisfied: requests in /usr/local/lib/python3.6/dist-packages (from python.binance) (2.21.0)\n",
            "Requirement already satisfied: urllib3 in /usr/local/lib/python3.6/dist-packages (from python.binance) (1.24.3)\n",
            "Requirement already satisfied: service-identity in /usr/local/lib/python3.6/dist-packages (from python.binance) (18.1.0)\n",
            "Requirement already satisfied: certifi in /usr/local/lib/python3.6/dist-packages (from python.binance) (2019.9.11)\n",
            "Requirement already satisfied: pyOpenSSL in /usr/local/lib/python3.6/dist-packages (from python.binance) (19.1.0)\n",
            "Requirement already satisfied: chardet in /usr/local/lib/python3.6/dist-packages (from python.binance) (3.0.4)\n",
            "Requirement already satisfied: dateparser in /usr/local/lib/python3.6/dist-packages (from python.binance) (0.7.2)\n",
            "Requirement already satisfied: Twisted in /usr/local/lib/python3.6/dist-packages (from python.binance) (19.10.0)\n",
            "Requirement already satisfied: cryptography in /usr/local/lib/python3.6/dist-packages (from python.binance) (2.8)\n",
            "Requirement already satisfied: txaio>=18.8.1 in /usr/local/lib/python3.6/dist-packages (from autobahn->python.binance) (18.8.1)\n",
            "Requirement already satisfied: idna<2.9,>=2.5 in /usr/local/lib/python3.6/dist-packages (from requests->python.binance) (2.8)\n",
            "Requirement already satisfied: pyasn1 in /usr/local/lib/python3.6/dist-packages (from service-identity->python.binance) (0.4.7)\n",
            "Requirement already satisfied: pyasn1-modules in /usr/local/lib/python3.6/dist-packages (from service-identity->python.binance) (0.2.7)\n",
            "Requirement already satisfied: attrs>=16.0.0 in /usr/local/lib/python3.6/dist-packages (from service-identity->python.binance) (19.3.0)\n",
            "Requirement already satisfied: regex in /usr/local/lib/python3.6/dist-packages (from dateparser->python.binance) (2019.11.1)\n",
            "Requirement already satisfied: pytz in /usr/local/lib/python3.6/dist-packages (from dateparser->python.binance) (2018.9)\n",
            "Requirement already satisfied: python-dateutil in /usr/local/lib/python3.6/dist-packages (from dateparser->python.binance) (2.6.1)\n",
            "Requirement already satisfied: tzlocal in /usr/local/lib/python3.6/dist-packages (from dateparser->python.binance) (1.5.1)\n",
            "Requirement already satisfied: constantly>=15.1 in /usr/local/lib/python3.6/dist-packages (from Twisted->python.binance) (15.1.0)\n",
            "Requirement already satisfied: zope.interface>=4.4.2 in /usr/local/lib/python3.6/dist-packages (from Twisted->python.binance) (4.7.1)\n",
            "Requirement already satisfied: incremental>=16.10.1 in /usr/local/lib/python3.6/dist-packages (from Twisted->python.binance) (17.5.0)\n",
            "Requirement already satisfied: PyHamcrest>=1.9.0 in /usr/local/lib/python3.6/dist-packages (from Twisted->python.binance) (1.9.0)\n",
            "Requirement already satisfied: Automat>=0.3.0 in /usr/local/lib/python3.6/dist-packages (from Twisted->python.binance) (0.8.0)\n",
            "Requirement already satisfied: hyperlink>=17.1.1 in /usr/local/lib/python3.6/dist-packages (from Twisted->python.binance) (19.0.0)\n",
            "Requirement already satisfied: cffi!=1.11.3,>=1.8 in /usr/local/lib/python3.6/dist-packages (from cryptography->python.binance) (1.13.2)\n",
            "Requirement already satisfied: setuptools in /usr/local/lib/python3.6/dist-packages (from zope.interface>=4.4.2->Twisted->python.binance) (41.6.0)\n",
            "Requirement already satisfied: pycparser in /usr/local/lib/python3.6/dist-packages (from cffi!=1.11.3,>=1.8->cryptography->python.binance) (2.19)\n",
            "Installing collected packages: python.binance\n",
            "Successfully installed python.binance\n"
          ],
          "name": "stdout"
        }
      ]
    },
    {
      "cell_type": "code",
      "metadata": {
        "id": "5F47GeyJgo6k",
        "colab_type": "code",
        "colab": {}
      },
      "source": [
        "import helper as h\n",
        "import trading_helper as th\n",
        "import numpy as np\n",
        "import pandas as pd\n",
        "from binance.client import Client\n",
        "import time\n",
        "from datetime import datetime, timezone, timedelta"
      ],
      "execution_count": 0,
      "outputs": []
    },
    {
      "cell_type": "code",
      "metadata": {
        "id": "3rceE6md6pW6",
        "colab_type": "code",
        "colab": {}
      },
      "source": [
        "# Trading strategy \n",
        "def strategy(model, keys_fname, log_fname, win_sz=48, trading_interval='2h'):\n",
        "    \"\"\"\n",
        "    Arguments\n",
        "    --------- \n",
        "    model            : Some trained forecasting model\n",
        "    keys_fname       : File name to the keys, see below\n",
        "    log_fname        : You will need to log the trades you submit to Binance. \n",
        "                       The file name should be on the format \"tradingbot_group<number>_<date_time>.log\". \n",
        "                       E.g. \"tradingbot_group1_2019-11-13_00:23:23.log\"\n",
        "    win_sz           : The window size that you specified when training the model, \n",
        "                       i.e. how many time steps of historical data the model needs for a forecast.\n",
        "    trading_interval : How often the trading bot will query data from Binance, \n",
        "                       make a new forecast and decide whether to trade. \n",
        "                       E.g. '1min', '5min', '15min', '30min', '1h', '2h', '4h', '6h', '12h', '1d' or '1w'.\n",
        "    \"\"\"\n",
        "    \n",
        "    # use the keys stored in KEYS_FNAME to initialize the Binance client\n",
        "    client = th.init_client(keys_fname)\n",
        "    \n",
        "    # convert the trading_interval string to seconds (int)\n",
        "    interval_s = th.interval_string_to_seconds(trading_interval)\n",
        "    \n",
        "    # initialize the log file\n",
        "    th.log(log_fname, new_log=True)\n",
        "        \n",
        "    # initialize trading with historical data\n",
        "    t = datetime.utcnow()\n",
        "    # timedelta(weeks=2) -> 2 weeks back in time\n",
        "    t = th.UTC('time') - timedelta(weeks=2)\n",
        "    # get data to begin forecasting from\n",
        "    data = h.get_klines([t.year, t.month, t.day, t.hour, t.minute, t.second], interval=trading_interval)\n",
        "    \n",
        "    # forecast \n",
        "    forecast = model.predict(data['returns'][-win_sz:])\n",
        "    \n",
        "    while True:\n",
        "    \n",
        "        try:\n",
        "\n",
        "            if forecast[-1] > 0.00075:  # since our forcasted accuracy is less than chance, preidicted price decrease -> sell\n",
        "\n",
        "                # decide on how to set the entry price\n",
        "                entry_price = data['high'][-1] \n",
        "                risk = 0.7 \n",
        "                # get the current balance\n",
        "                balance = client.get_asset_balance(asset='USDT')\n",
        "                entry_capital = np.float64(balance['free']) * risk # balance['free'] is a str -> convert to float\n",
        "                \n",
        "                if entry_capital > 0:\n",
        "                    order = th.limit_buy(client, 'BTCUSDT', entry_price, quantity=entry_capital)\n",
        "                    \n",
        "                    th.log(log_fname, order_type='NEW_BUY', quantity=order['origQty'],\n",
        "                        price=entry_price, time=th.UTC('iso'))\n",
        "\n",
        "            elif forecast[-1] < 0.00075:  # forcasted price decrease\n",
        "                exit_price = data['low'][-1] \n",
        "                balance = client.get_asset_balance(asset='BTC')\n",
        "                risk = 0.7\n",
        "                exit_capital = np.float64(balance['free']) * risk # balance['free'] is a str -> convert to float\n",
        "\n",
        "                if entry_capital > 0:\n",
        "                    order = th.limit_sell(client, 'BTCUSDT', exit_price, quantity=exit_capital)\n",
        "                    th.log(log_fname, order_type='NEW_SELL', quantity=order['origQty'],\n",
        "                        price=exit_price, time=th.UTC('iso'))\n",
        "                    \n",
        "            # pause/sleep for the trading_interval\n",
        "            time.sleep(interval_s)\n",
        "            # get last time from data\n",
        "            t = data.index[-1]\n",
        "            # update data \n",
        "            tmp = h.get_klines([t.year, t.month, t.day, t.hour, t.minute, t.second], interval=trading_interval)\n",
        "            data.append(tmp)\n",
        "            forecast = model.predict(data['returns'][-win_sz:])\n",
        "                \n",
        "        except ValueError:\n",
        "            pass  # Handles lookback errors in beginning of dataset"
      ],
      "execution_count": 0,
      "outputs": []
    },
    {
      "cell_type": "code",
      "metadata": {
        "id": "iRQrOtL6_xF1",
        "colab_type": "code",
        "colab": {}
      },
      "source": [
        "# create the Jason file \n",
        "#import json \n",
        "#data = {}\n",
        "#data[\"api_key\"] = \"gglFmXh8VIvkalLXauz3TIU5A3OtQeLLpuGS21TSHEgPtDsqzUeFmKLtSu3awUsr\"\n",
        "#data[\"secret_key\"] = \"oajw02UHWSiPLWHbr4qAaTEj1HALmcE7wuuNVV8JuTF0vBCmenTYzHrPn4fG8cxL\"\n",
        "#with open ('group<2>_keys.json', 'w') as outfile:\n",
        "  #json.dump (data, outfile)"
      ],
      "execution_count": 0,
      "outputs": []
    },
    {
      "cell_type": "code",
      "metadata": {
        "id": "pDFM2dJr6pW-",
        "colab_type": "code",
        "outputId": "6ce107f2-3316-4426-88b5-205b65ef09f5",
        "colab": {
          "base_uri": "https://localhost:8080/",
          "height": 232
        }
      },
      "source": [
        "# Live trading on Binance \n",
        "# load pre-trainied model\n",
        "\n",
        "model_name = 'BidirLSTM_2layer_class_epochs%d.h5' % (epochs)\n",
        "model_dir = os.path.join('models', model_name)\n",
        "fname_model = '%s/%s_epochs%d.h5' % (model_dir, model_name, epochs)\n",
        "model = tf.keras.models.load_model('BidirLSTM_2layer_class_epochs%d.h5' % (epochs))\n",
        "keys_fname = 'group<2>_keys.json' # set this file name to your file name\n",
        "log_fname = 'tradingbot_group<2>_<{}>.log'.format(th.UTC('iso')[:-10]) #\n",
        "win_sz = 48  # example\n",
        "trading_interval = '2h' # example\n",
        "strategy(model, keys_fname, log_fname, win_sz=win_sz, trading_interval=trading_interval)"
      ],
      "execution_count": 0,
      "outputs": [
        {
          "output_type": "error",
          "ename": "NameError",
          "evalue": "ignored",
          "traceback": [
            "\u001b[0;31m---------------------------------------------------------------------------\u001b[0m",
            "\u001b[0;31mNameError\u001b[0m                                 Traceback (most recent call last)",
            "\u001b[0;32m<ipython-input-16-5ff98ecab2c1>\u001b[0m in \u001b[0;36m<module>\u001b[0;34m()\u001b[0m\n\u001b[1;32m      1\u001b[0m \u001b[0;34m\u001b[0m\u001b[0m\n\u001b[0;32m----> 2\u001b[0;31m \u001b[0mmodel_name\u001b[0m \u001b[0;34m=\u001b[0m \u001b[0;34m'BidirLSTM_2layer_class_epochs%d.h5'\u001b[0m \u001b[0;34m%\u001b[0m \u001b[0;34m(\u001b[0m\u001b[0mepochs\u001b[0m\u001b[0;34m)\u001b[0m\u001b[0;34m\u001b[0m\u001b[0;34m\u001b[0m\u001b[0m\n\u001b[0m\u001b[1;32m      3\u001b[0m \u001b[0mmodel_dir\u001b[0m \u001b[0;34m=\u001b[0m \u001b[0mos\u001b[0m\u001b[0;34m.\u001b[0m\u001b[0mpath\u001b[0m\u001b[0;34m.\u001b[0m\u001b[0mjoin\u001b[0m\u001b[0;34m(\u001b[0m\u001b[0;34m'models'\u001b[0m\u001b[0;34m,\u001b[0m \u001b[0mmodel_name\u001b[0m\u001b[0;34m)\u001b[0m\u001b[0;34m\u001b[0m\u001b[0;34m\u001b[0m\u001b[0m\n\u001b[1;32m      4\u001b[0m \u001b[0mfname_model\u001b[0m \u001b[0;34m=\u001b[0m \u001b[0;34m'%s/%s_epochs%d.h5'\u001b[0m \u001b[0;34m%\u001b[0m \u001b[0;34m(\u001b[0m\u001b[0mmodel_dir\u001b[0m\u001b[0;34m,\u001b[0m \u001b[0mmodel_name\u001b[0m\u001b[0;34m,\u001b[0m \u001b[0mepochs\u001b[0m\u001b[0;34m)\u001b[0m\u001b[0;34m\u001b[0m\u001b[0;34m\u001b[0m\u001b[0m\n\u001b[1;32m      5\u001b[0m \u001b[0mmodel\u001b[0m \u001b[0;34m=\u001b[0m \u001b[0mtf\u001b[0m\u001b[0;34m.\u001b[0m\u001b[0mkeras\u001b[0m\u001b[0;34m.\u001b[0m\u001b[0mmodels\u001b[0m\u001b[0;34m.\u001b[0m\u001b[0mload_model\u001b[0m\u001b[0;34m(\u001b[0m\u001b[0;34m'BidirLSTM_2layer_class_epochs%d.h5'\u001b[0m \u001b[0;34m%\u001b[0m \u001b[0;34m(\u001b[0m\u001b[0mepochs\u001b[0m\u001b[0;34m)\u001b[0m\u001b[0;34m)\u001b[0m\u001b[0;34m\u001b[0m\u001b[0;34m\u001b[0m\u001b[0m\n",
            "\u001b[0;31mNameError\u001b[0m: name 'epochs' is not defined"
          ]
        }
      ]
    }
  ]
}